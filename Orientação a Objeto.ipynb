{
 "cells": [
  {
   "cell_type": "markdown",
   "id": "0e4ad873",
   "metadata": {},
   "source": [
    "# Introdução a Orientação a Objeto\n",
    "\n",
    "## Regras Gerais:\n",
    "\n",
    "- Tudo no Python é um objeto\n",
    "- String\n",
    "- Lista\n",
    "- Dicionarios\n",
    "\n",
    "## Comparação Clássica\n",
    "\n",
    "- Pense no controle remoto de uma tv\n",
    "- o controle é um objeto\n",
    "- cada botão dele é um comando, um método\n",
    "- cada método faz 1 ação especifica\n",
    "-> Por trás de cada método (dentro do controle) podem acontecer milhares de coisas quando você aperta 1 botão, mas no fundo você tá cagando pra isso, só quer que o botão faça o que você mandou quando você clicar no botão\n",
    "\n",
    "## Em termos práticos no Python\n",
    "\n",
    "- Isso significa que todos eles tem métodos especificos, ou seja, já existe programado no Python várias coisas que você consegue fazer com ele. \n",
    "\n",
    "- Exemplo Strings\n",
    "-> Quando no python criaram a string, eles programaram lá em algum lugar que texto[i] vai te dar o caracter na posição i do texto\n",
    "-> também criaram o método texto.upper() que forma toda a string em letra maiuscula\n",
    "-> também criaram o método texto.casefold() que coloca tudo em letra minuscula\n",
    "\n",
    "- Em termos práticos, você já deve ter reparado que fazemos muito coisas do tipo variavel.metodo()\n",
    "-> produto{}: {} unidades vendidas.format(produto, qtde)\n",
    "-> lista.append(ABC1234)\n",
    "-> texto.count()"
   ]
  },
  {
   "cell_type": "code",
   "execution_count": 2,
   "id": "9962bbee",
   "metadata": {},
   "outputs": [
    {
     "data": {
      "text/plain": [
       "True"
      ]
     },
     "execution_count": 2,
     "metadata": {},
     "output_type": "execute_result"
    }
   ],
   "source": [
    "import webbrowser as wb\n",
    "\n",
    "wb.open('https://www.google.com.br')"
   ]
  },
  {
   "cell_type": "markdown",
   "id": "ba4aa119",
   "metadata": {},
   "source": [
    "# Começando a ler um módulo\n",
    "\n",
    "## Vamos testar com o módulo Webbrowser:\n",
    "\n",
    "- Passo 1 : Descobrir qual módulo precisamos usar e qual método do Módulo faz o que a gente quer\n",
    "- Passo 2 : Se precisarmos de mais alguma coisa do módulo, buscamos por soluções já escolhendo o módulo"
   ]
  },
  {
   "cell_type": "code",
   "execution_count": null,
   "id": "0c030d5d",
   "metadata": {},
   "outputs": [],
   "source": [
    "import webbrowser as wb\n",
    "\n",
    "wb.open('https://www.google.com.br')"
   ]
  },
  {
   "cell_type": "markdown",
   "id": "b543ca0d",
   "metadata": {},
   "source": [
    "# Módulo Time\n",
    "\n",
    "## Estrutura \n",
    "\n",
    "- Um dos módulos mais usados no Python. Tudo que diz respeito a data, a marcar quando tempo leva uma ação, ou a a tempo mesmo, o módulo time vai ajudar. "
   ]
  },
  {
   "cell_type": "code",
   "execution_count": 3,
   "id": "656ae46e",
   "metadata": {},
   "outputs": [],
   "source": [
    "import time "
   ]
  },
  {
   "cell_type": "markdown",
   "id": "4b2f8d90",
   "metadata": {},
   "source": [
    "- Marco Zero (chamado de EPOCH) = 1 de janeiro de 1970 as 00:00:00\n",
    "- time() retorna quantos segundos se passaram desde a EPOCH"
   ]
  },
  {
   "cell_type": "code",
   "execution_count": 4,
   "id": "0a9ac49a",
   "metadata": {},
   "outputs": [
    {
     "name": "stdout",
     "output_type": "stream",
     "text": [
      "1684226373.878091\n"
     ]
    }
   ],
   "source": [
    "segundos_hoje = time.time()\n",
    "print(segundos_hoje)"
   ]
  },
  {
   "cell_type": "markdown",
   "id": "68c6d71c",
   "metadata": {},
   "source": [
    "- ctime retorna a data em string o texto no formato UTC (formato padrão de datas)"
   ]
  },
  {
   "cell_type": "code",
   "execution_count": 5,
   "id": "46cba2de",
   "metadata": {},
   "outputs": [
    {
     "name": "stdout",
     "output_type": "stream",
     "text": [
      "Tue May 16 05:40:43 2023\n"
     ]
    }
   ],
   "source": [
    "data_hoje = time.ctime()\n",
    "print(data_hoje)"
   ]
  },
  {
   "cell_type": "markdown",
   "id": "5f2d3c5b",
   "metadata": {},
   "source": [
    "- Isso já pode ser util para medir o tempo que uma ação leva, caso seja do interesse:"
   ]
  },
  {
   "cell_type": "code",
   "execution_count": 6,
   "id": "f011adbf",
   "metadata": {},
   "outputs": [
    {
     "name": "stdout",
     "output_type": "stream",
     "text": [
      "O programa levou 4.339766025543213 segundos para rodar\n"
     ]
    }
   ],
   "source": [
    "tempo_inicial = time.time()\n",
    "for i in range(100000000):\n",
    "    pass\n",
    "tempo_final = time.time()\n",
    "duracao = tempo_final - tempo_inicial\n",
    "print('O programa levou {} segundos para rodar'.format(duracao))"
   ]
  },
  {
   "cell_type": "markdown",
   "id": "a92cea5a",
   "metadata": {},
   "source": [
    "- Fazer o código esperar alguns segundos (muito util quando temos que esperar um programa ou uma pagina carregar)"
   ]
  },
  {
   "cell_type": "code",
   "execution_count": 8,
   "id": "b99e4797",
   "metadata": {},
   "outputs": [
    {
     "name": "stdout",
     "output_type": "stream",
     "text": [
      "Começando\n",
      "Rodou 5 segundo após\n"
     ]
    }
   ],
   "source": [
    "print('Começando')\n",
    "time.sleep(5)\n",
    "print('Rodou 5 segundo após')"
   ]
  },
  {
   "cell_type": "markdown",
   "id": "b2d63d8c",
   "metadata": {},
   "source": [
    "- Pegar informações de dias, hora, segundo, minuto, tudo detalhado\n"
   ]
  },
  {
   "cell_type": "code",
   "execution_count": 9,
   "id": "5dd4ceac",
   "metadata": {},
   "outputs": [
    {
     "name": "stdout",
     "output_type": "stream",
     "text": [
      "time.struct_time(tm_year=2023, tm_mon=5, tm_mday=16, tm_hour=8, tm_min=45, tm_sec=59, tm_wday=1, tm_yday=136, tm_isdst=0)\n"
     ]
    }
   ],
   "source": [
    "data_atual = time.gmtime()\n",
    "print(data_atual)"
   ]
  },
  {
   "cell_type": "markdown",
   "id": "9caab127",
   "metadata": {},
   "source": [
    "# Usando módulos para ajudar a resolver desafios\n",
    "\n",
    "## Objetivo\n",
    "\n",
    "- Muitas vezes algum módulo vai ajudar a gente a resolver um desafio que talvez até conseguissemos resolver de outra forma\n",
    "\n",
    "### Exemplo \n",
    "\n",
    "- Digamos que você está analisando todas as vendas dos produto de tecnologia de um e-commerce e quer saber quais foram os 5 produtos que mais venderam (e suas respectivas quantidades de vendas) ou seja, queremos descobrir um top 3 produtos de forma simples"
   ]
  },
  {
   "cell_type": "code",
   "execution_count": 11,
   "id": "68bf6f50",
   "metadata": {},
   "outputs": [
    {
     "name": "stdout",
     "output_type": "stream",
     "text": [
      "[('iphone', 15000), ('ps5', 14300), ('samsung galaxy', 12000)]\n"
     ]
    }
   ],
   "source": [
    "from collections import Counter\n",
    "\n",
    "vendas_tecnologia = {'notebook asus': 2450, 'iphone': 15000, 'samsung galaxy': 12000, 'ps5': 14300, 'tablet': 10000, 'notebook dell': 10000}\n",
    "\n",
    "aux = Counter(vendas_tecnologia)\n",
    "print(aux.most_common(3))"
   ]
  },
  {
   "cell_type": "markdown",
   "id": "58d5037f",
   "metadata": {},
   "source": [
    "# Exibindo Gráficos no Python\n",
    "\n",
    "### Importância\n",
    "\n",
    "- Para exploração e visualização de dados, nada melhor do que usar gráficos para isso. Apesar do Python ser programação, gráficos facilitam demais em qualquer projeto que trabalhe com dados. \n",
    "\n",
    "### Estrutura\n",
    "\n",
    "- Usaremos o módulo Matplotlib.pyplot que é o módulo mais usado no Python. Existem outros, como o Seaborn e o plotly. "
   ]
  },
  {
   "cell_type": "code",
   "execution_count": 9,
   "id": "05569760",
   "metadata": {},
   "outputs": [
    {
     "data": {
      "image/png": "[encoded data removed]",
      "text/plain": [
       "<Figure size 432x288 with 1 Axes>"
      ]
     },
     "metadata": {
      "needs_background": "light"
     },
     "output_type": "display_data"
    }
   ],
   "source": [
    "vendas_meses = [1500, 1727, 1350, 999, 1050, 1027, 1022, 1500, 2000, 1433, 2100, 2762]\n",
    "meses = ['jan', 'fev', 'mar', 'abr', 'mai','jun','jul','ago','set','out','nov','dez']\n",
    "\n",
    "#plotar grafico da forma mais simples\n",
    "import matplotlib.pyplot as plt\n",
    "\n",
    "plt.plot(meses, vendas_meses)\n",
    "plt.ylabel('Vendas')\n",
    "plt.xlabel('Meses')\n",
    "plt.axis([0, 12, 0, max(vendas_meses)+500]) #para definirmos o maximo de forma automatica\n",
    "plt.show()"
   ]
  },
  {
   "cell_type": "markdown",
   "id": "09638168",
   "metadata": {},
   "source": [
    "## Mais Edições de Gráfico com Matplotlib"
   ]
  },
  {
   "cell_type": "code",
   "execution_count": 1,
   "id": "b25ebb9a",
   "metadata": {},
   "outputs": [],
   "source": [
    "import matplotlib.pyplot as plt"
   ]
  },
  {
   "cell_type": "code",
   "execution_count": 2,
   "id": "a65840de",
   "metadata": {},
   "outputs": [],
   "source": [
    "import numpy as np"
   ]
  },
  {
   "cell_type": "code",
   "execution_count": 3,
   "id": "847dc3f4",
   "metadata": {},
   "outputs": [
    {
     "name": "stdout",
     "output_type": "stream",
     "text": [
      "[ 1  2  3  4  5  6  7  8  9 10 11 12 13 14 15 16 17 18 19 20 21 22 23 24\n",
      " 25 26 27 28 29 30 31 32 33 34 35 36 37 38 39 40 41 42 43 44 45 46 47 48\n",
      " 49 50]\n"
     ]
    }
   ],
   "source": [
    "vendas = np.random.randint(1000, 3000, 50)\n",
    "meses = np.arange(1, 51)\n",
    "print(meses)"
   ]
  },
  {
   "cell_type": "code",
   "execution_count": 7,
   "id": "57b39e78",
   "metadata": {},
   "outputs": [
    {
     "data": {
      "image/png": "[encoded data removed]",
      "text/plain": [
       "<Figure size 432x288 with 1 Axes>"
      ]
     },
     "metadata": {
      "needs_background": "light"
     },
     "output_type": "display_data"
    }
   ],
   "source": [
    "plt.plot(meses, vendas)\n",
    "plt.axis([0, 50, 0, max(vendas)+200])\n",
    "plt.xlabel('Meses')\n",
    "plt.ylabel('Vendas')\n",
    "plt.show()"
   ]
  },
  {
   "cell_type": "code",
   "execution_count": 8,
   "id": "18b196c9",
   "metadata": {},
   "outputs": [
    {
     "data": {
      "image/png": "[encoded data removed]",
      "text/plain": [
       "<Figure size 432x288 with 1 Axes>"
      ]
     },
     "metadata": {
      "needs_background": "light"
     },
     "output_type": "display_data"
    }
   ],
   "source": [
    "plt.plot(meses, vendas, 'ro')\n",
    "plt.axis([0, 50, 0, max(vendas)+200])\n",
    "plt.xlabel('Meses')\n",
    "plt.ylabel('Vendas')\n",
    "plt.show()"
   ]
  },
  {
   "cell_type": "code",
   "execution_count": null,
   "id": "4dace4a4",
   "metadata": {},
   "outputs": [],
   "source": []
  },
  {
   "cell_type": "markdown",
   "id": "30d515cf",
   "metadata": {},
   "source": [
    "# Como instalar um módulo/biblioteca que não tenha no seu computador\n",
    "\n",
    "### Estrutura\n",
    "\n",
    "- Usaremos o pip para isso. "
   ]
  },
  {
   "cell_type": "code",
   "execution_count": 2,
   "id": "8c20144a",
   "metadata": {},
   "outputs": [
    {
     "name": "stdout",
     "output_type": "stream",
     "text": [
      "Collecting keyboard\n",
      "  Using cached keyboard-0.13.5-py3-none-any.whl (58 kB)\n",
      "Installing collected packages: keyboard\n",
      "Successfully installed keyboard-0.13.5\n",
      "Note: you may need to restart the kernel to use updated packages.\n"
     ]
    }
   ],
   "source": [
    "pip install keyboard"
   ]
  },
  {
   "cell_type": "code",
   "execution_count": null,
   "id": "ff45684d",
   "metadata": {},
   "outputs": [],
   "source": []
  },
  {
   "cell_type": "code",
   "execution_count": 3,
   "id": "1d10b73e",
   "metadata": {},
   "outputs": [],
   "source": [
    "import keyboard\n",
    "\n",
    "keyboard.press_and_release('ctrl+t')\n",
    "\n",
    "keyboard.write('www.google.com')\n",
    "\n",
    "keyboard.press_and_release('enter')"
   ]
  },
  {
   "cell_type": "code",
   "execution_count": null,
   "id": "0e071ec3",
   "metadata": {},
   "outputs": [],
   "source": []
  },
  {
   "cell_type": "code",
   "execution_count": null,
   "id": "700bf2bd",
   "metadata": {},
   "outputs": [],
   "source": []
  },
  {
   "cell_type": "code",
   "execution_count": null,
   "id": "57e28880",
   "metadata": {},
   "outputs": [],
   "source": []
  },
  {
   "cell_type": "code",
   "execution_count": null,
   "id": "c6863ee4",
   "metadata": {},
   "outputs": [],
   "source": []
  },
  {
   "cell_type": "code",
   "execution_count": null,
   "id": "a7c953f0",
   "metadata": {},
   "outputs": [],
   "source": []
  },
  {
   "cell_type": "code",
   "execution_count": null,
   "id": "5bed4c84",
   "metadata": {},
   "outputs": [],
   "source": []
  },
  {
   "cell_type": "code",
   "execution_count": null,
   "id": "3af9c6eb",
   "metadata": {},
   "outputs": [],
   "source": []
  },
  {
   "cell_type": "code",
   "execution_count": null,
   "id": "060ad6d0",
   "metadata": {},
   "outputs": [],
   "source": []
  },
  {
   "cell_type": "code",
   "execution_count": null,
   "id": "a091f74e",
   "metadata": {},
   "outputs": [],
   "source": []
  },
  {
   "cell_type": "code",
   "execution_count": null,
   "id": "c4fd4501",
   "metadata": {},
   "outputs": [],
   "source": []
  },
  {
   "cell_type": "code",
   "execution_count": null,
   "id": "32127694",
   "metadata": {},
   "outputs": [],
   "source": []
  },
  {
   "cell_type": "code",
   "execution_count": null,
   "id": "6afbba66",
   "metadata": {},
   "outputs": [],
   "source": []
  }
 ],
 "metadata": {
  "kernelspec": {
   "display_name": "Python 3",
   "language": "python",
   "name": "python3"
  },
  "language_info": {
   "codemirror_mode": {
    "name": "ipython",
    "version": 3
   },
   "file_extension": ".py",
   "mimetype": "text/x-python",
   "name": "python",
   "nbconvert_exporter": "python",
   "pygments_lexer": "ipython3",
   "version": "3.8.8"
  }
 },
 "nbformat": 4,
 "nbformat_minor": 5
}
